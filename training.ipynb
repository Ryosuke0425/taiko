{
 "cells": [
  {
   "cell_type": "code",
   "execution_count": 1,
   "metadata": {
    "executionInfo": {
     "elapsed": 5917,
     "status": "ok",
     "timestamp": 1718946212863,
     "user": {
      "displayName": "音ジョー",
      "userId": "05216211515287026878"
     },
     "user_tz": -540
    },
    "id": "00dt-WNzxWMj"
   },
   "outputs": [],
   "source": [
    "import os\n",
    "import librosa\n",
    "import librosa.display\n",
    "import matplotlib.pyplot as plt\n",
    "from numpy.fft import fft, fftfreq\n",
    "import numpy as np\n",
    "import os\n",
    "import tensorflow as tf\n",
    "from tensorflow import keras\n",
    "from tensorflow.keras.utils import to_categorical\n",
    "from tensorflow.keras.utils import image_dataset_from_directory\n",
    "from tensorflow.keras import layers"
   ]
  },
  {
   "cell_type": "code",
   "execution_count": 2,
   "metadata": {
    "executionInfo": {
     "elapsed": 586,
     "status": "ok",
     "timestamp": 1718946224334,
     "user": {
      "displayName": "音ジョー",
      "userId": "05216211515287026878"
     },
     "user_tz": -540
    },
    "id": "wQAaDflFsSvL"
   },
   "outputs": [],
   "source": [
    "train_data = np.load('./train_data.npy')\n",
    "val_data = np.load('./val_data.npy')\n",
    "test_data = np.load('./test_data.npy')\n",
    "\n",
    "train_labels = np.load('./train_labels.npy')\n",
    "val_labels = np.load('./val_labels.npy')\n",
    "test_labels = np.load('./test_labels.npy')"
   ]
  },
  {
   "cell_type": "code",
   "execution_count": 3,
   "metadata": {},
   "outputs": [],
   "source": [
    "np.savez_compressed(\"compressed_data.npz\", train_data)"
   ]
  },
  {
   "cell_type": "markdown",
   "metadata": {},
   "source": [
    "### 学習"
   ]
  },
  {
   "cell_type": "code",
   "execution_count": 5,
   "metadata": {},
   "outputs": [],
   "source": [
    "class CRNN(keras.Model):\n",
    "  def __init__(self,num_classes=5,sequence_size=16,img_size=180):\n",
    "    super().__init__()\n",
    "    #self.inputs = keras.Input(shape=(img_size,img_size,3))\n",
    "    self.num_classes = num_classes\n",
    "    self.sequence_size = sequence_size\n",
    "    self.img_size = img_size\n",
    "    self.rescale = layers.Rescaling(1./255)\n",
    "    self.conv2d_1 = layers.Conv2D(filters=32,kernel_size=3,activation=\"relu\")\n",
    "    self.drop = layers.Dropout(0.8)\n",
    "    self.max_1 = layers.MaxPooling2D(pool_size=2)\n",
    "    self.conv2d_2 = layers.Conv2D(filters=64,kernel_size=3,activation=\"relu\")\n",
    "    self.max_2 = layers.MaxPooling2D(pool_size=2)\n",
    "    #self.conv2d_3 = layers.Conv2D(filters=128,kernel_size=3,activation=\"relu\")\n",
    "    #self.max_3 = layers.MaxPooling2D(pool_size=2)\n",
    "    #self.conv_4 = layers.Conv2D(filters=256,kernel_size=3,activation=\"relu\")\n",
    "    #self.max_4 = layers.MaxPooling2D(pool_size=2)\n",
    "    self.flatten = layers.Flatten()\n",
    "    #self.dense = layers.Dense(256,activation=\"relu\")\n",
    "    #self.out = layers.Dense(self.num_classes,activation=\"softmax\")\n",
    "\n",
    "  def call(self,inputs):\n",
    "    x = self.rescale(inputs)\n",
    "    x = self.conv2d_1(x)\n",
    "    x = self.max_1(x)\n",
    "    x = self.conv2d_2(x)\n",
    "    x = self.max_2(x)\n",
    "    #x = self.conv2d_3(x)\n",
    "    #x = self.max_3(x)\n",
    "    #x = self.conv_4(x)\n",
    "    #x = self.max_4(x)\n",
    "    #x = self.flatten(x)\n",
    "    x = self.flatten(x)\n",
    "    #x = self.dense(x)\n",
    "    #return  self.out(x)\n",
    "    return self.drop(x)\n",
    "    #mdoel = keras.Model(inputs=inputs,outputs=outputs)\n",
    "    #return model\n",
    "    #model = keras.Model(inputs=inputs,outputs=outputs)\n",
    "    #return model\n",
    "  def get_config(self):\n",
    "    return {}\n",
    "\n",
    "\n",
    "\n",
    "\n",
    "output_list = []\n",
    "inputs = keras.Input(shape=(16,90,90,3))\n",
    "inputs_i = tf.transpose(inputs,perm=[1,0,2,3,4])\n",
    "for i in range(16):\n",
    "  x = CRNN()(inputs_i[i])\n",
    "  output_list.append(x)\n",
    "combined = tf.stack(output_list)\n",
    "x = tf.transpose(combined,perm=[1,0,2])\n",
    "x = layers.SimpleRNN(128,return_sequences=True)(x)\n",
    "#x = layers.LSTM(128,return_sequences=True)(x)\n",
    "\n",
    "\n",
    "#x = layers.Dropout(0.5)(x)\n",
    "outputs = layers.Dense(7,activation=\"softmax\")(x)\n",
    "model = keras.Model(inputs=inputs,outputs=outputs)\n",
    "#model.compile(loss=\"categorical_crossentropy\",optimizer=\"rmsprop\",metrics=[\"accuracy\"])\n",
    "model.compile(loss=\"categorical_crossentropy\",optimizer=tf.optimizers.RMSprop())"
   ]
  },
  {
   "cell_type": "code",
   "execution_count": 8,
   "metadata": {
    "colab": {
     "base_uri": "https://localhost:8080/"
    },
    "executionInfo": {
     "elapsed": 1231877,
     "status": "ok",
     "timestamp": 1718949351380,
     "user": {
      "displayName": "音ジョー",
      "userId": "05216211515287026878"
     },
     "user_tz": -540
    },
    "id": "pJ8eZ7tg967n",
    "outputId": "b35df4c2-dbb8-4060-aa42-8ba3e5bd8e9f"
   },
   "outputs": [
    {
     "name": "stdout",
     "output_type": "stream",
     "text": [
      "1312/1312 [==============================] - 158s 118ms/step - loss: 1.3229 - val_loss: 1.5754\n"
     ]
    }
   ],
   "source": [
    "#history = model.fit(train_data,train_labels,epochs=1,batch_size=1,\n",
    "#                    validation_data=(val_data,val_labels)\n",
    "#                   )"
   ]
  },
  {
   "cell_type": "code",
   "execution_count": 49,
   "metadata": {
    "id": "EzQjMgDEDpvO"
   },
   "outputs": [],
   "source": [
    "#model.save('./model.keras')\n",
    "#model.save_weights('./model.keras')"
   ]
  },
  {
   "cell_type": "code",
   "execution_count": 12,
   "metadata": {
    "id": "7phk46jTW5-r"
   },
   "outputs": [],
   "source": [
    "test_model = keras.models.load_model('model.keras',custom_objects={\"CRNN\": CRNN})"
   ]
  },
  {
   "cell_type": "code",
   "execution_count": 14,
   "metadata": {
    "id": "0LFJLixzXzDU"
   },
   "outputs": [],
   "source": [
    "#model.load_weights('weights.keras')"
   ]
  },
  {
   "cell_type": "markdown",
   "metadata": {
    "id": "lSIC1jzx-xuA"
   },
   "source": [
    "### 推論"
   ]
  },
  {
   "cell_type": "code",
   "execution_count": 13,
   "metadata": {},
   "outputs": [],
   "source": [
    "def make_text(data):\n",
    "  #text=\"\"\n",
    "  p = test_model.predict(data)\n",
    "  text = \"\"\n",
    "  for i in range(data.shape[0]):\n",
    "    #for j in range(16):\n",
    "    text += str(np.argmax(p[i][3]))\n",
    "    if i % 16 == 15:\n",
    "        print(text + \",\")\n",
    "        text = \"\"\n",
    "    #print(text+',')\n",
    "    #text += \"\\n\"\n",
    "  return text"
   ]
  },
  {
   "cell_type": "code",
   "execution_count": 14,
   "metadata": {
    "colab": {
     "base_uri": "https://localhost:8080/"
    },
    "executionInfo": {
     "elapsed": 42675,
     "status": "ok",
     "timestamp": 1718951228476,
     "user": {
      "displayName": "音ジョー",
      "userId": "05216211515287026878"
     },
     "user_tz": -540
    },
    "id": "Np1YBg_qr8PG",
    "outputId": "bf740da2-3aa6-46ef-895d-7c5c918c514b"
   },
   "outputs": [
    {
     "name": "stdout",
     "output_type": "stream",
     "text": [
      "32/32 [==============================] - 6s 170ms/step\n",
      "0000000000000122,\n",
      "2220000000202202,\n",
      "2220200002021022,\n",
      "1021102010121020,\n",
      "1022122110201000,\n",
      "1021102110211000,\n",
      "1011201210210101,\n",
      "1020102120111011,\n",
      "1010111011101101,\n",
      "0222102212202001,\n",
      "2011102110221110,\n",
      "1020102000201020,\n",
      "0000100010222011,\n",
      "0022102120211020,\n",
      "1011100120111102,\n",
      "0122101120111011,\n",
      "1011101010201111,\n",
      "2001102210001020,\n",
      "1010111110211110,\n",
      "0112100000001001,\n",
      "1022102020221111,\n",
      "1011110110111210,\n",
      "1020100111101211,\n",
      "1001101112001111,\n",
      "1011110020010100,\n",
      "2000102010201011,\n",
      "1020202012201112,\n",
      "1211120010011022,\n",
      "1222000220211111,\n",
      "2000102010101000,\n",
      "2000102011211022,\n",
      "1120102011021011,\n",
      "1000020000001011,\n",
      "2020102000021010,\n",
      "0002020122221000,\n",
      "1011000010021221,\n",
      "1221102210212110,\n",
      "2010202010100000,\n",
      "0020201120211001,\n",
      "1120100220221010,\n",
      "2111102010111021,\n",
      "0011000020010000,\n",
      "1000200210101000,\n",
      "2000100000001010,\n",
      "1020212111102001,\n",
      "1020102110221002,\n",
      "1011201220102011,\n",
      "1021100120211111,\n",
      "1011101010211110,\n",
      "1022102210201002,\n",
      "2021101110211120,\n",
      "1120102200011010,\n",
      "2020101010100011,\n",
      "1020102210011000,\n",
      "1021100110201102,\n",
      "1022100120111011,\n",
      "1010100010201010,\n",
      "1021100020001000,\n",
      "1010112110201010,\n",
      "1122100000201002,\n",
      "2021102111202002,\n",
      "2220000200000212,\n",
      "2122222122220221,\n",
      "1260200000002201,\n"
     ]
    }
   ],
   "source": [
    "text = make_text(test_data)"
   ]
  }
 ],
 "metadata": {
  "colab": {
   "authorship_tag": "ABX9TyPfgiJDRqSM6nDASpfuarT+",
   "mount_file_id": "1zRXu7Qvkm6MMxdJ5N3WSFLdxX998kQwV",
   "provenance": []
  },
  "kernelspec": {
   "display_name": "research_env_kernel",
   "language": "python",
   "name": "research_env_kernel"
  },
  "language_info": {
   "codemirror_mode": {
    "name": "ipython",
    "version": 3
   },
   "file_extension": ".py",
   "mimetype": "text/x-python",
   "name": "python",
   "nbconvert_exporter": "python",
   "pygments_lexer": "ipython3",
   "version": "3.10.14"
  }
 },
 "nbformat": 4,
 "nbformat_minor": 4
}
